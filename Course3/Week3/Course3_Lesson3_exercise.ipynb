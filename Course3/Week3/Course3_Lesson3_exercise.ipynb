{
 "cells": [
  {
   "cell_type": "code",
   "execution_count": 1,
   "metadata": {},
   "outputs": [],
   "source": [
    "import json\n",
    "import tensorflow as tf\n",
    "import csv\n",
    "import random\n",
    "import numpy as np\n",
    "\n",
    "from tensorflow.keras.preprocessing.text import Tokenizer\n",
    "from tensorflow.keras.preprocessing.sequence import pad_sequences\n",
    "from tensorflow.keras.utils import to_categorical\n",
    "from tensorflow.keras import regularizers\n",
    "\n",
    "embedding_dim = 100\n",
    "max_length = 16\n",
    "trunc_type = \"post\"\n",
    "padding_type = \"post\"\n",
    "oov_tok = \"<OOV>\"\n",
    "training_size = 160000 # Your dataset size here. Experiment using smaller values (i.e. 16000), but don't forget to train on at least 160000 to see the best effects\n",
    "test_portion = .1\n",
    "\n",
    "corpus = []"
   ]
  },
  {
   "cell_type": "code",
   "execution_count": 2,
   "metadata": {},
   "outputs": [
    {
     "name": "stdout",
     "output_type": "stream",
     "text": [
      "--2019-09-15 09:23:21--  https://storage.googleapis.com/laurencemoroney-blog.appspot.com/training_cleaned.csv\n",
      "Resolving storage.googleapis.com... 172.217.11.48\n",
      "Connecting to storage.googleapis.com|172.217.11.48|:443... connected.\n",
      "HTTP request sent, awaiting response... 200 OK\n",
      "Length: 238942690 (228M) [application/octet-stream]\n",
      "Saving to: '/tmp/training_cleaned.csv'\n",
      "\n",
      "/tmp/training_clean 100%[===================>] 227.87M  11.9MB/s    in 19s     \n",
      "\n",
      "2019-09-15 09:23:41 (11.9 MB/s) - '/tmp/training_cleaned.csv' saved [238942690/238942690]\n",
      "\n"
     ]
    }
   ],
   "source": [
    "# Note that I cleaned the Stanford dataset to remove LATIN1 encoding to make it easier for Python CSV reader\n",
    "# You can do that yourself with:\n",
    "# iconv -f LATIN1 -t UTF8 training.1600000.processed.noemoticon.csv -o training_cleaned.csv\n",
    "# I then hosted it on my site to make it easier to use in this notebook\n",
    "\n",
    "!/miniconda3/envs/tensorflow/bin/wget --no-check-certificate \\\n",
    "    https://storage.googleapis.com/laurencemoroney-blog.appspot.com/training_cleaned.csv \\\n",
    "    -O /tmp/training_cleaned.csv\n",
    "\n",
    "num_sentences = 0\n",
    "\n",
    "with open(\"/tmp/training_cleaned.csv\") as csvfile:\n",
    "    reader = csv.reader(csvfile, delimiter = \",\")\n",
    "    for row in reader:\n",
    "      # Your Code here. Create list items where the first item is the text, found in row[5], and the second is the label. Note that the label is a '0' or a '4' in the text. When it's the former, make\n",
    "      # your label to be 0, otherwise 1. Keep a count of the number of sentences in num_sentences\n",
    "        list_item = []\n",
    "        # YOUR CODE HERE\n",
    "        list_item.append(row[5])\n",
    "        this_label = row[0]\n",
    "        if this_label == \"0\":\n",
    "            list_item.append(0)\n",
    "        else:\n",
    "            list_item.append(1)\n",
    "        num_sentences = num_sentences + 1\n",
    "        corpus.append(list_item)"
   ]
  },
  {
   "cell_type": "code",
   "execution_count": 3,
   "metadata": {},
   "outputs": [
    {
     "name": "stdout",
     "output_type": "stream",
     "text": [
      "1600000\n",
      "1600000\n",
      "[\"is upset that he can't update his Facebook by texting it... and might cry as a result  School today also. Blah!\", 0]\n"
     ]
    }
   ],
   "source": [
    "print(num_sentences)\n",
    "print(len(corpus))\n",
    "print(corpus[1])\n",
    "\n",
    "# Expected Output:\n",
    "# 1600000\n",
    "# 1600000\n",
    "# [\"is upset that he can't update his Facebook by texting it... and might cry as a result  School today also. Blah!\", 0]"
   ]
  },
  {
   "cell_type": "code",
   "execution_count": 4,
   "metadata": {},
   "outputs": [],
   "source": [
    "sentences = []\n",
    "labels = []\n",
    "random.shuffle(corpus)\n",
    "for x in range(training_size):\n",
    "    sentences.append(corpus[x][0]) # YOUR CODE HERE\n",
    "    labels.append(corpus[x][1]) # YOUR CODE HERE\n",
    "\n",
    "tokenizer = Tokenizer()\n",
    "tokenizer.fit_on_texts(sentences) # YOUR CODE HERE\n",
    "\n",
    "word_index = tokenizer.word_index\n",
    "vocab_size = len(word_index) # YOUR CODE HERE\n",
    "\n",
    "sequences = tokenizer.texts_to_sequences(sentences) # YOUR CODE HERE\n",
    "padded = pad_sequences(sequences, maxlen = max_length, padding = padding_type, truncating = trunc_type) # YOUR CODE HERE\n",
    "\n",
    "split = int(test_portion * training_size)\n",
    "\n",
    "test_sequences = padded[0:split] # YOUR CODE HERE\n",
    "training_sequences = padded[split:training_size] # YOUR CODE HERE\n",
    "test_labels = labels[0:split] # YOUR CODE HERE\n",
    "training_labels = labels[split:training_size] # YOUR CODE HERE"
   ]
  },
  {
   "cell_type": "code",
   "execution_count": 5,
   "metadata": {},
   "outputs": [
    {
     "name": "stdout",
     "output_type": "stream",
     "text": [
      "139038\n",
      "1\n"
     ]
    }
   ],
   "source": [
    "print(vocab_size)\n",
    "print(word_index[\"i\"])\n",
    "# Expected Output\n",
    "# 138858\n",
    "# 1"
   ]
  },
  {
   "cell_type": "code",
   "execution_count": 6,
   "metadata": {},
   "outputs": [
    {
     "name": "stdout",
     "output_type": "stream",
     "text": [
      "--2019-09-15 09:23:53--  https://storage.googleapis.com/laurencemoroney-blog.appspot.com/glove.6B.100d.txt\n",
      "Resolving storage.googleapis.com... 172.217.3.112\n",
      "Connecting to storage.googleapis.com|172.217.3.112|:443... connected.\n",
      "HTTP request sent, awaiting response... 200 OK\n",
      "Length: 347116733 (331M) [text/plain]\n",
      "Saving to: '/tmp/glove.6B.100d.txt'\n",
      "\n",
      "/tmp/glove.6B.100d. 100%[===================>] 331.04M  2.89MB/s    in 46s     \n",
      "\n",
      "2019-09-15 09:24:39 (7.26 MB/s) - '/tmp/glove.6B.100d.txt' saved [347116733/347116733]\n",
      "\n"
     ]
    }
   ],
   "source": [
    "# Note this is the 100 dimension version of GloVe from Stanford\n",
    "# I unzipped and hosted it on my site to make this notebook easier\n",
    "!/miniconda3/envs/tensorflow/bin/wget --no-check-certificate \\\n",
    "    https://storage.googleapis.com/laurencemoroney-blog.appspot.com/glove.6B.100d.txt \\\n",
    "    -O /tmp/glove.6B.100d.txt\n",
    "embeddings_index = {};\n",
    "with open(\"/tmp/glove.6B.100d.txt\") as f:\n",
    "    for line in f:\n",
    "        values = line.split();\n",
    "        word = values[0];\n",
    "        coefs = np.asarray(values[1:], dtype = \"float32\");\n",
    "        embeddings_index[word] = coefs;\n",
    "\n",
    "embeddings_matrix = np.zeros((vocab_size + 1, embedding_dim));\n",
    "for word, i in word_index.items():\n",
    "    embedding_vector = embeddings_index.get(word);\n",
    "    if embedding_vector is not None:\n",
    "        embeddings_matrix[i] = embedding_vector;"
   ]
  },
  {
   "cell_type": "code",
   "execution_count": 7,
   "metadata": {},
   "outputs": [
    {
     "name": "stdout",
     "output_type": "stream",
     "text": [
      "139039\n"
     ]
    }
   ],
   "source": [
    "print(len(embeddings_matrix))\n",
    "# Expected Output\n",
    "# 138859"
   ]
  },
  {
   "cell_type": "code",
   "execution_count": 8,
   "metadata": {},
   "outputs": [
    {
     "name": "stdout",
     "output_type": "stream",
     "text": [
      "WARNING:tensorflow:Entity <function standard_lstm at 0x125d5aa60> could not be transformed and will be executed as-is. Please report this to the AutoGraph team. When filing the bug, set the verbosity to 10 (on Linux, `export AUTOGRAPH_VERBOSITY=10`) and attach the full output. Cause: converting <function standard_lstm at 0x125d5aa60>: AttributeError: module 'gast' has no attribute 'Num'\n",
      "WARNING: Entity <function standard_lstm at 0x125d5aa60> could not be transformed and will be executed as-is. Please report this to the AutoGraph team. When filing the bug, set the verbosity to 10 (on Linux, `export AUTOGRAPH_VERBOSITY=10`) and attach the full output. Cause: converting <function standard_lstm at 0x125d5aa60>: AttributeError: module 'gast' has no attribute 'Num'\n",
      "WARNING:tensorflow:Entity <function cudnn_lstm at 0x125d5aae8> could not be transformed and will be executed as-is. Please report this to the AutoGraph team. When filing the bug, set the verbosity to 10 (on Linux, `export AUTOGRAPH_VERBOSITY=10`) and attach the full output. Cause: converting <function cudnn_lstm at 0x125d5aae8>: AttributeError: module 'gast' has no attribute 'Num'\n",
      "WARNING: Entity <function cudnn_lstm at 0x125d5aae8> could not be transformed and will be executed as-is. Please report this to the AutoGraph team. When filing the bug, set the verbosity to 10 (on Linux, `export AUTOGRAPH_VERBOSITY=10`) and attach the full output. Cause: converting <function cudnn_lstm at 0x125d5aae8>: AttributeError: module 'gast' has no attribute 'Num'\n",
      "Model: \"sequential\"\n",
      "_________________________________________________________________\n",
      "Layer (type)                 Output Shape              Param #   \n",
      "=================================================================\n",
      "embedding (Embedding)        (None, 16, 100)           13903900  \n",
      "_________________________________________________________________\n",
      "conv1d (Conv1D)              (None, 12, 64)            32064     \n",
      "_________________________________________________________________\n",
      "max_pooling1d (MaxPooling1D) (None, 3, 64)             0         \n",
      "_________________________________________________________________\n",
      "lstm (LSTM)                  (None, 64)                33024     \n",
      "_________________________________________________________________\n",
      "dense (Dense)                (None, 1)                 65        \n",
      "=================================================================\n",
      "Total params: 13,969,053\n",
      "Trainable params: 65,153\n",
      "Non-trainable params: 13,903,900\n",
      "_________________________________________________________________\n",
      "WARNING:tensorflow:From //miniconda3/envs/tensorflow/lib/python3.6/site-packages/tensorflow/python/ops/math_grad.py:1250: add_dispatch_support.<locals>.wrapper (from tensorflow.python.ops.array_ops) is deprecated and will be removed in a future version.\n",
      "Instructions for updating:\n",
      "Use tf.where in 2.0, which has the same broadcast rule as np.where\n",
      "Train on 144000 samples, validate on 16000 samples\n",
      "Epoch 1/50\n",
      "144000/144000 - 71s - loss: 0.5446 - accuracy: 0.7183 - val_loss: 0.5249 - val_accuracy: 0.7294\n",
      "Epoch 2/50\n",
      "144000/144000 - 72s - loss: 0.4971 - accuracy: 0.7562 - val_loss: 0.5057 - val_accuracy: 0.7483\n",
      "Epoch 3/50\n",
      "144000/144000 - 71s - loss: 0.4740 - accuracy: 0.7702 - val_loss: 0.5020 - val_accuracy: 0.7455\n",
      "Epoch 4/50\n",
      "144000/144000 - 71s - loss: 0.4547 - accuracy: 0.7832 - val_loss: 0.5026 - val_accuracy: 0.7492\n",
      "Epoch 5/50\n",
      "144000/144000 - 74s - loss: 0.4362 - accuracy: 0.7937 - val_loss: 0.5136 - val_accuracy: 0.7472\n",
      "Epoch 6/50\n",
      "144000/144000 - 70s - loss: 0.4197 - accuracy: 0.8033 - val_loss: 0.5074 - val_accuracy: 0.7477\n",
      "Epoch 7/50\n",
      "144000/144000 - 74s - loss: 0.4048 - accuracy: 0.8126 - val_loss: 0.5402 - val_accuracy: 0.7456\n",
      "Epoch 8/50\n",
      "144000/144000 - 72s - loss: 0.3908 - accuracy: 0.8189 - val_loss: 0.5400 - val_accuracy: 0.7428\n",
      "Epoch 9/50\n",
      "144000/144000 - 75s - loss: 0.3757 - accuracy: 0.8273 - val_loss: 0.5399 - val_accuracy: 0.7383\n",
      "Epoch 10/50\n",
      "144000/144000 - 74s - loss: 0.3622 - accuracy: 0.8351 - val_loss: 0.5818 - val_accuracy: 0.7419\n",
      "Epoch 11/50\n",
      "144000/144000 - 84s - loss: 0.3481 - accuracy: 0.8415 - val_loss: 0.5943 - val_accuracy: 0.7425\n",
      "Epoch 12/50\n",
      "144000/144000 - 74s - loss: 0.3354 - accuracy: 0.8481 - val_loss: 0.5911 - val_accuracy: 0.7389\n",
      "Epoch 13/50\n",
      "144000/144000 - 82s - loss: 0.3224 - accuracy: 0.8549 - val_loss: 0.6362 - val_accuracy: 0.7386\n",
      "Epoch 14/50\n",
      "144000/144000 - 73s - loss: 0.3101 - accuracy: 0.8613 - val_loss: 0.6988 - val_accuracy: 0.7368\n",
      "Epoch 15/50\n",
      "144000/144000 - 89s - loss: 0.2997 - accuracy: 0.8661 - val_loss: 0.6942 - val_accuracy: 0.7305\n",
      "Epoch 16/50\n",
      "144000/144000 - 75s - loss: 0.2887 - accuracy: 0.8715 - val_loss: 0.7226 - val_accuracy: 0.7320\n",
      "Epoch 17/50\n",
      "144000/144000 - 72s - loss: 0.2791 - accuracy: 0.8754 - val_loss: 0.7570 - val_accuracy: 0.7287\n",
      "Epoch 18/50\n",
      "144000/144000 - 82s - loss: 0.2698 - accuracy: 0.8806 - val_loss: 0.7518 - val_accuracy: 0.7258\n",
      "Epoch 19/50\n",
      "144000/144000 - 75s - loss: 0.2603 - accuracy: 0.8858 - val_loss: 0.7861 - val_accuracy: 0.7287\n",
      "Epoch 20/50\n",
      "144000/144000 - 71s - loss: 0.2518 - accuracy: 0.8895 - val_loss: 0.8047 - val_accuracy: 0.7241\n",
      "Epoch 21/50\n",
      "144000/144000 - 70s - loss: 0.2442 - accuracy: 0.8932 - val_loss: 0.8373 - val_accuracy: 0.7239\n",
      "Epoch 22/50\n",
      "144000/144000 - 70s - loss: 0.2381 - accuracy: 0.8956 - val_loss: 0.8320 - val_accuracy: 0.7259\n",
      "Epoch 23/50\n",
      "144000/144000 - 88s - loss: 0.2320 - accuracy: 0.8992 - val_loss: 0.8440 - val_accuracy: 0.7224\n",
      "Epoch 24/50\n",
      "144000/144000 - 86s - loss: 0.2243 - accuracy: 0.9026 - val_loss: 0.9096 - val_accuracy: 0.7231\n",
      "Epoch 25/50\n",
      "144000/144000 - 75s - loss: 0.2196 - accuracy: 0.9048 - val_loss: 0.9340 - val_accuracy: 0.7207\n",
      "Epoch 26/50\n",
      "144000/144000 - 72s - loss: 0.2133 - accuracy: 0.9077 - val_loss: 0.9576 - val_accuracy: 0.7211\n",
      "Epoch 27/50\n",
      "144000/144000 - 77s - loss: 0.2092 - accuracy: 0.9095 - val_loss: 0.9941 - val_accuracy: 0.7230\n",
      "Epoch 28/50\n",
      "144000/144000 - 74s - loss: 0.2046 - accuracy: 0.9113 - val_loss: 0.9967 - val_accuracy: 0.7187\n",
      "Epoch 29/50\n",
      "144000/144000 - 75s - loss: 0.1998 - accuracy: 0.9143 - val_loss: 0.9948 - val_accuracy: 0.7204\n",
      "Epoch 30/50\n",
      "144000/144000 - 78s - loss: 0.1966 - accuracy: 0.9159 - val_loss: 0.9966 - val_accuracy: 0.7160\n",
      "Epoch 31/50\n",
      "144000/144000 - 75s - loss: 0.1922 - accuracy: 0.9177 - val_loss: 1.0179 - val_accuracy: 0.7164\n",
      "Epoch 32/50\n",
      "144000/144000 - 72s - loss: 0.1877 - accuracy: 0.9202 - val_loss: 1.0583 - val_accuracy: 0.7183\n",
      "Epoch 33/50\n",
      "144000/144000 - 73s - loss: 0.1842 - accuracy: 0.9217 - val_loss: 1.0951 - val_accuracy: 0.7197\n",
      "Epoch 34/50\n",
      "144000/144000 - 81s - loss: 0.1823 - accuracy: 0.9229 - val_loss: 1.0995 - val_accuracy: 0.7163\n",
      "Epoch 35/50\n",
      "144000/144000 - 93s - loss: 0.1784 - accuracy: 0.9244 - val_loss: 1.1076 - val_accuracy: 0.7164\n",
      "Epoch 36/50\n",
      "144000/144000 - 74s - loss: 0.1778 - accuracy: 0.9255 - val_loss: 1.1278 - val_accuracy: 0.7154\n",
      "Epoch 37/50\n",
      "144000/144000 - 77s - loss: 0.1731 - accuracy: 0.9268 - val_loss: 1.1175 - val_accuracy: 0.7131\n",
      "Epoch 38/50\n",
      "144000/144000 - 94s - loss: 0.1705 - accuracy: 0.9278 - val_loss: 1.1868 - val_accuracy: 0.7183\n",
      "Epoch 39/50\n",
      "144000/144000 - 90s - loss: 0.1680 - accuracy: 0.9297 - val_loss: 1.1874 - val_accuracy: 0.7121\n",
      "Epoch 40/50\n",
      "144000/144000 - 90s - loss: 0.1656 - accuracy: 0.9305 - val_loss: 1.1683 - val_accuracy: 0.7113\n",
      "Epoch 41/50\n",
      "144000/144000 - 84s - loss: 0.1641 - accuracy: 0.9314 - val_loss: 1.1724 - val_accuracy: 0.7138\n",
      "Epoch 42/50\n",
      "144000/144000 - 91s - loss: 0.1622 - accuracy: 0.9325 - val_loss: 1.2126 - val_accuracy: 0.7127\n",
      "Epoch 43/50\n",
      "144000/144000 - 94s - loss: 0.1604 - accuracy: 0.9327 - val_loss: 1.2161 - val_accuracy: 0.7145\n",
      "Epoch 44/50\n",
      "144000/144000 - 86s - loss: 0.1600 - accuracy: 0.9337 - val_loss: 1.2154 - val_accuracy: 0.7157\n",
      "Epoch 45/50\n",
      "144000/144000 - 69s - loss: 0.1574 - accuracy: 0.9343 - val_loss: 1.2383 - val_accuracy: 0.7151\n",
      "Epoch 46/50\n",
      "144000/144000 - 69s - loss: 0.1557 - accuracy: 0.9354 - val_loss: 1.2437 - val_accuracy: 0.7139\n",
      "Epoch 47/50\n",
      "144000/144000 - 76s - loss: 0.1543 - accuracy: 0.9357 - val_loss: 1.2653 - val_accuracy: 0.7124\n",
      "Epoch 48/50\n",
      "144000/144000 - 93s - loss: 0.1525 - accuracy: 0.9361 - val_loss: 1.2369 - val_accuracy: 0.7110\n",
      "Epoch 49/50\n",
      "144000/144000 - 92s - loss: 0.1507 - accuracy: 0.9384 - val_loss: 1.2495 - val_accuracy: 0.7095\n"
     ]
    },
    {
     "name": "stdout",
     "output_type": "stream",
     "text": [
      "Epoch 50/50\n",
      "144000/144000 - 98s - loss: 0.1499 - accuracy: 0.9384 - val_loss: 1.2840 - val_accuracy: 0.7093\n",
      "Training Complete\n"
     ]
    }
   ],
   "source": [
    "model = tf.keras.Sequential([\n",
    "    tf.keras.layers.Embedding(vocab_size + 1, embedding_dim, input_length = max_length, weights = [embeddings_matrix], trainable = False),\n",
    "    # YOUR CODE HERE - experiment with combining different types, such as convolutions and LSTMs\n",
    "    tf.keras.layers.Conv1D(64, 5, activation = \"relu\"),\n",
    "    tf.keras.layers.MaxPooling1D(pool_size = 4),\n",
    "    tf.keras.layers.LSTM(64),\n",
    "    tf.keras.layers.Dense(1, activation = \"sigmoid\")\n",
    "])\n",
    "\n",
    "model.compile(loss = \"binary_crossentropy\",\n",
    "              optimizer = \"adam\",\n",
    "              metrics = [\"accuracy\"]) # YOUR CODE HERE\n",
    "model.summary()\n",
    "\n",
    "num_epochs = 50\n",
    "history = model.fit(training_sequences, \n",
    "                    training_labels,\n",
    "                    epochs = num_epochs,\n",
    "                    validation_data = (test_sequences, test_labels), verbose = 2)\n",
    "\n",
    "print(\"Training Complete\")"
   ]
  },
  {
   "cell_type": "code",
   "execution_count": 9,
   "metadata": {},
   "outputs": [
    {
     "data": {
      "text/plain": [
       "<Figure size 640x480 with 0 Axes>"
      ]
     },
     "execution_count": 9,
     "metadata": {},
     "output_type": "execute_result"
    }
   ],
   "source": [
    "import matplotlib.image  as mpimg\n",
    "import matplotlib.pyplot as plt\n",
    "\n",
    "#-----------------------------------------------------------\n",
    "# Retrieve a list of list results on training and test data\n",
    "# sets for each training epoch\n",
    "#-----------------------------------------------------------\n",
    "acc = history.history[\"accuracy\"]\n",
    "val_acc = history.history[\"val_accuracy\"]\n",
    "loss = history.history[\"loss\"]\n",
    "val_loss = history.history[\"val_loss\"]\n",
    "\n",
    "epochs = range(len(acc)) # Get number of epochs\n",
    "\n",
    "#------------------------------------------------\n",
    "# Plot training and validation accuracy per epoch\n",
    "#------------------------------------------------\n",
    "plt.plot(epochs, acc, \"r\")\n",
    "plt.plot(epochs, val_acc, \"b\")\n",
    "plt.title(\"Training and validation accuracy\")\n",
    "plt.xlabel(\"Epochs\")\n",
    "plt.ylabel(\"Accuracy\")\n",
    "plt.legend([\"Accuracy\", \"Validation Accuracy\"])\n",
    "\n",
    "plt.figure()\n",
    "\n",
    "#------------------------------------------------\n",
    "# Plot training and validation loss per epoch\n",
    "#------------------------------------------------\n",
    "plt.plot(epochs, loss, \"r\")\n",
    "plt.plot(epochs, val_loss, \"b\")\n",
    "plt.title(\"Training and validation loss\")\n",
    "plt.xlabel(\"Epochs\")\n",
    "plt.ylabel(\"Loss\")\n",
    "plt.legend([\"Loss\", \"Validation Loss\"])\n",
    "\n",
    "plt.figure()\n",
    "\n",
    "\n",
    "# Expected Output\n",
    "# A chart where the validation loss does not increase sharply!"
   ]
  },
  {
   "cell_type": "code",
   "execution_count": null,
   "metadata": {},
   "outputs": [],
   "source": []
  }
 ],
 "metadata": {
  "kernelspec": {
   "display_name": "Python 3.6 (tensorflow)",
   "language": "python",
   "name": "tensorflow"
  },
  "language_info": {
   "codemirror_mode": {
    "name": "ipython",
    "version": 3
   },
   "file_extension": ".py",
   "mimetype": "text/x-python",
   "name": "python",
   "nbconvert_exporter": "python",
   "pygments_lexer": "ipython3",
   "version": "3.6.9"
  }
 },
 "nbformat": 4,
 "nbformat_minor": 2
}
