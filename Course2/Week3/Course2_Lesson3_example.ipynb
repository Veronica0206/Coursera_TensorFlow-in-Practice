{
 "cells": [
  {
   "cell_type": "code",
   "execution_count": 1,
   "metadata": {
    "colab": {
     "base_uri": "https://localhost:8080/",
     "height": 332
    },
    "colab_type": "code",
    "id": "1xJZ5glPPCRz",
    "outputId": "06a18f5f-124f-4907-fb43-167b68844095"
   },
   "outputs": [
    {
     "name": "stdout",
     "output_type": "stream",
     "text": [
      "--2019-09-15 08:11:15--  https://storage.googleapis.com/mledu-datasets/inception_v3_weights_tf_dim_ordering_tf_kernels_notop.h5\n",
      "Resolving storage.googleapis.com... 172.217.13.80\n",
      "Connecting to storage.googleapis.com|172.217.13.80|:443... connected.\n",
      "HTTP request sent, awaiting response... 200 OK\n",
      "Length: 87910968 (84M) [application/x-hdf]\n",
      "Saving to: '/tmp/inception_v3_weights_tf_dim_ordering_tf_kernels_notop.h5'\n",
      "\n",
      "/tmp/inception_v3_w 100%[===================>]  83.84M  6.70MB/s    in 12s     \n",
      "\n",
      "2019-09-15 08:11:27 (7.03 MB/s) - '/tmp/inception_v3_weights_tf_dim_ordering_tf_kernels_notop.h5' saved [87910968/87910968]\n",
      "\n",
      "last layer output shape:  (None, 7, 7, 768)\n"
     ]
    }
   ],
   "source": [
    "import os\n",
    "\n",
    "from tensorflow.keras import layers\n",
    "from tensorflow.keras import Model\n",
    "!/miniconda3/envs/tensorflow/bin/wget --no-check-certificate \\\n",
    "    https://storage.googleapis.com/mledu-datasets/inception_v3_weights_tf_dim_ordering_tf_kernels_notop.h5 \\\n",
    "    -O /tmp/inception_v3_weights_tf_dim_ordering_tf_kernels_notop.h5\n",
    "\n",
    "from tensorflow.keras.applications.inception_v3 import InceptionV3\n",
    "\n",
    "local_weights_file = \"/tmp/inception_v3_weights_tf_dim_ordering_tf_kernels_notop.h5\"\n",
    "\n",
    "pre_trained_model = InceptionV3(input_shape = (150, 150, 3), \n",
    "                                include_top = False, \n",
    "                                weights = None)\n",
    "\n",
    "pre_trained_model.load_weights(local_weights_file)\n",
    "\n",
    "for layer in pre_trained_model.layers:\n",
    "    layer.trainable = False\n",
    "\n",
    "# pre_trained_model.summary()\n",
    "\n",
    "last_layer = pre_trained_model.get_layer(\"mixed7\")\n",
    "print(\"last layer output shape: \", last_layer.output_shape)\n",
    "last_output = last_layer.output"
   ]
  },
  {
   "cell_type": "code",
   "execution_count": 2,
   "metadata": {
    "colab": {
     "base_uri": "https://localhost:8080/",
     "height": 108
    },
    "colab_type": "code",
    "id": "BMXb913pbvFg",
    "outputId": "b6777be3-5ff8-447c-c886-4733bbe73c2c"
   },
   "outputs": [],
   "source": [
    "from tensorflow.keras.optimizers import RMSprop\n",
    "\n",
    "# Flatten the output layer to 1 dimension\n",
    "x = layers.Flatten()(last_output)\n",
    "# Add a fully connected layer with 1,024 hidden units and ReLU activation\n",
    "x = layers.Dense(1024, activation = \"relu\")(x)\n",
    "# Add a dropout rate of 0.2\n",
    "x = layers.Dropout(0.2)(x)                  \n",
    "# Add a final sigmoid layer for classification\n",
    "x = layers.Dense(1, activation = \"sigmoid\")(x)           \n",
    "\n",
    "model = Model( pre_trained_model.input, x) \n",
    "\n",
    "model.compile(optimizer = RMSprop(lr = 0.0001), \n",
    "              loss = \"binary_crossentropy\", \n",
    "              metrics = [\"acc\"])\n"
   ]
  },
  {
   "cell_type": "code",
   "execution_count": 3,
   "metadata": {
    "colab": {
     "base_uri": "https://localhost:8080/",
     "height": 238
    },
    "colab_type": "code",
    "id": "O4s8HckqGlnb",
    "outputId": "e0919735-8a77-40e2-bec7-e8f97064cb61"
   },
   "outputs": [
    {
     "name": "stdout",
     "output_type": "stream",
     "text": [
      "--2019-09-15 08:12:39--  https://storage.googleapis.com/mledu-datasets/cats_and_dogs_filtered.zip\n",
      "Resolving storage.googleapis.com... 172.217.13.80\n",
      "Connecting to storage.googleapis.com|172.217.13.80|:443... connected.\n",
      "HTTP request sent, awaiting response... 200 OK\n",
      "Length: 68606236 (65M) [application/zip]\n",
      "Saving to: '/tmp/cats_and_dogs_filtered.zip'\n",
      "\n",
      "/tmp/cats_and_dogs_ 100%[===================>]  65.43M  4.11MB/s    in 12s     \n",
      "\n",
      "2019-09-15 08:12:52 (5.63 MB/s) - '/tmp/cats_and_dogs_filtered.zip' saved [68606236/68606236]\n",
      "\n",
      "Found 2000 images belonging to 2 classes.\n",
      "Found 1000 images belonging to 2 classes.\n"
     ]
    }
   ],
   "source": [
    "!/miniconda3/envs/tensorflow/bin/wget --no-check-certificate \\\n",
    "        https://storage.googleapis.com/mledu-datasets/cats_and_dogs_filtered.zip \\\n",
    "       -O /tmp/cats_and_dogs_filtered.zip\n",
    "\n",
    "from tensorflow.keras.preprocessing.image import ImageDataGenerator\n",
    "\n",
    "import os\n",
    "import zipfile\n",
    "\n",
    "local_zip = \"//tmp/cats_and_dogs_filtered.zip\"\n",
    "\n",
    "zip_ref = zipfile.ZipFile(local_zip, \"r\")\n",
    "\n",
    "zip_ref.extractall(\"/tmp\")\n",
    "zip_ref.close()\n",
    "\n",
    "# Define our example directories and files\n",
    "base_dir = \"/tmp/cats_and_dogs_filtered\"\n",
    "\n",
    "train_dir = os.path.join( base_dir, \"train\")\n",
    "validation_dir = os.path.join( base_dir, \"validation\")\n",
    "\n",
    "\n",
    "train_cats_dir = os.path.join(train_dir, \"cats\") # Directory with our training cat pictures\n",
    "train_dogs_dir = os.path.join(train_dir, \"dogs\") # Directory with our training dog pictures\n",
    "validation_cats_dir = os.path.join(validation_dir, \"cats\") # Directory with our validation cat pictures\n",
    "validation_dogs_dir = os.path.join(validation_dir, \"dogs\")# Directory with our validation dog pictures\n",
    "\n",
    "train_cat_fnames = os.listdir(train_cats_dir)\n",
    "train_dog_fnames = os.listdir(train_dogs_dir)\n",
    "\n",
    "# Add our data-augmentation parameters to ImageDataGenerator\n",
    "train_datagen = ImageDataGenerator(rescale = 1./255.,\n",
    "                                   rotation_range = 40,\n",
    "                                   width_shift_range = 0.2,\n",
    "                                   height_shift_range = 0.2,\n",
    "                                   shear_range = 0.2,\n",
    "                                   zoom_range = 0.2,\n",
    "                                   horizontal_flip = True)\n",
    "\n",
    "# Note that the validation data should not be augmented!\n",
    "test_datagen = ImageDataGenerator( rescale = 1.0/255. )\n",
    "\n",
    "# Flow training images in batches of 20 using train_datagen generator\n",
    "train_generator = train_datagen.flow_from_directory(train_dir,\n",
    "                                                    batch_size = 20,\n",
    "                                                    class_mode = \"binary\", \n",
    "                                                    target_size = (150, 150))     \n",
    "\n",
    "# Flow validation images in batches of 20 using test_datagen generator\n",
    "validation_generator = test_datagen.flow_from_directory(validation_dir,\n",
    "                                                        batch_size = 20,\n",
    "                                                        class_mode = \"binary\", \n",
    "                                                        target_size = (150, 150))"
   ]
  },
  {
   "cell_type": "code",
   "execution_count": 4,
   "metadata": {
    "colab": {
     "base_uri": "https://localhost:8080/",
     "height": 697
    },
    "colab_type": "code",
    "id": "Blhq2MAUeyGA",
    "outputId": "73980a1b-e206-4463-f53c-717038482e47"
   },
   "outputs": [
    {
     "name": "stdout",
     "output_type": "stream",
     "text": [
      "Epoch 1/20\n",
      "WARNING:tensorflow:From //miniconda3/envs/tensorflow/lib/python3.6/site-packages/tensorflow/python/ops/math_grad.py:1250: add_dispatch_support.<locals>.wrapper (from tensorflow.python.ops.array_ops) is deprecated and will be removed in a future version.\n",
      "Instructions for updating:\n",
      "Use tf.where in 2.0, which has the same broadcast rule as np.where\n",
      "100/100 - 642s - loss: 0.5138 - acc: 0.7645 - val_loss: 0.2465 - val_acc: 0.9290\n",
      "Epoch 2/20\n",
      "100/100 - 480s - loss: 0.3792 - acc: 0.8225 - val_loss: 0.1780 - val_acc: 0.9590\n",
      "Epoch 3/20\n",
      "100/100 - 480s - loss: 0.3532 - acc: 0.8525 - val_loss: 0.2210 - val_acc: 0.9540\n",
      "Epoch 4/20\n",
      "100/100 - 439s - loss: 0.3220 - acc: 0.8605 - val_loss: 0.2369 - val_acc: 0.9550\n",
      "Epoch 5/20\n",
      "100/100 - 381s - loss: 0.3395 - acc: 0.8625 - val_loss: 0.2238 - val_acc: 0.9560\n",
      "Epoch 6/20\n",
      "100/100 - 367s - loss: 0.3185 - acc: 0.8690 - val_loss: 0.2901 - val_acc: 0.9490\n",
      "Epoch 7/20\n",
      "100/100 - 378s - loss: 0.3012 - acc: 0.8785 - val_loss: 0.3242 - val_acc: 0.9530\n",
      "Epoch 8/20\n",
      "100/100 - 387s - loss: 0.2976 - acc: 0.8750 - val_loss: 0.2798 - val_acc: 0.9630\n",
      "Epoch 9/20\n",
      "100/100 - 389s - loss: 0.2796 - acc: 0.8845 - val_loss: 0.3542 - val_acc: 0.9440\n",
      "Epoch 10/20\n",
      "100/100 - 391s - loss: 0.2688 - acc: 0.8955 - val_loss: 0.4356 - val_acc: 0.9350\n",
      "Epoch 11/20\n",
      "100/100 - 403s - loss: 0.2608 - acc: 0.8900 - val_loss: 0.4187 - val_acc: 0.9410\n",
      "Epoch 12/20\n",
      "100/100 - 389s - loss: 0.2820 - acc: 0.8905 - val_loss: 0.2610 - val_acc: 0.9630\n",
      "Epoch 13/20\n",
      "100/100 - 382s - loss: 0.2686 - acc: 0.8955 - val_loss: 0.3114 - val_acc: 0.9530\n",
      "Epoch 14/20\n",
      "100/100 - 392s - loss: 0.2805 - acc: 0.8880 - val_loss: 0.2847 - val_acc: 0.9620\n",
      "Epoch 15/20\n",
      "100/100 - 389s - loss: 0.2773 - acc: 0.8840 - val_loss: 0.2761 - val_acc: 0.9610\n",
      "Epoch 16/20\n",
      "100/100 - 392s - loss: 0.2613 - acc: 0.8895 - val_loss: 0.2910 - val_acc: 0.9620\n",
      "Epoch 17/20\n",
      "100/100 - 429s - loss: 0.2611 - acc: 0.8925 - val_loss: 0.2757 - val_acc: 0.9660\n",
      "Epoch 18/20\n",
      "100/100 - 432s - loss: 0.2520 - acc: 0.9065 - val_loss: 0.3018 - val_acc: 0.9570\n",
      "Epoch 19/20\n",
      "100/100 - 427s - loss: 0.2630 - acc: 0.8990 - val_loss: 0.2828 - val_acc: 0.9630\n",
      "Epoch 20/20\n",
      "100/100 - 435s - loss: 0.2590 - acc: 0.8995 - val_loss: 0.2914 - val_acc: 0.9650\n"
     ]
    }
   ],
   "source": [
    "history = model.fit_generator(\n",
    "    train_generator,\n",
    "    validation_data = validation_generator,\n",
    "    steps_per_epoch = 100,\n",
    "    epochs = 20,\n",
    "    validation_steps = 50,\n",
    "    verbose = 2)"
   ]
  },
  {
   "cell_type": "code",
   "execution_count": 5,
   "metadata": {
    "colab": {
     "base_uri": "https://localhost:8080/",
     "height": 298
    },
    "colab_type": "code",
    "id": "C2Fp6Se9rKuL",
    "outputId": "20233464-3287-441f-b790-a0165a5074eb"
   },
   "outputs": [
    {
     "data": {
      "text/plain": [
       "<Figure size 640x480 with 1 Axes>"
      ]
     },
     "metadata": {},
     "output_type": "display_data"
    },
    {
     "data": {
      "text/plain": [
       "<Figure size 640x480 with 0 Axes>"
      ]
     },
     "metadata": {},
     "output_type": "display_data"
    }
   ],
   "source": [
    "import matplotlib.pyplot as plt\n",
    "acc = history.history[\"acc\"]\n",
    "val_acc = history.history[\"val_acc\"]\n",
    "loss = history.history[\"loss\"]\n",
    "val_loss = history.history[\"val_loss\"]\n",
    "\n",
    "epochs = range(len(acc))\n",
    "\n",
    "plt.plot(epochs, acc, \"r\", label = \"Training accuracy\")\n",
    "plt.plot(epochs, val_acc, \"b\", label = \"Validation accuracy\")\n",
    "plt.title(\"Training and validation accuracy\")\n",
    "plt.legend(loc = 0)\n",
    "plt.figure()\n",
    "\n",
    "\n",
    "plt.show()"
   ]
  }
 ],
 "metadata": {
  "accelerator": "GPU",
  "colab": {
   "collapsed_sections": [],
   "name": "Transfer Learning.ipynb",
   "provenance": [],
   "version": "0.3.2"
  },
  "kernelspec": {
   "display_name": "Python 3.6 (tensorflow)",
   "language": "python",
   "name": "tensorflow"
  },
  "language_info": {
   "codemirror_mode": {
    "name": "ipython",
    "version": 3
   },
   "file_extension": ".py",
   "mimetype": "text/x-python",
   "name": "python",
   "nbconvert_exporter": "python",
   "pygments_lexer": "ipython3",
   "version": "3.6.9"
  }
 },
 "nbformat": 4,
 "nbformat_minor": 1
}
