{
  "nbformat": 4,
  "nbformat_minor": 0,
  "metadata": {
    "colab": {
      "name": "Exercise 8 - Answer.ipynb",
      "version": "0.3.2",
      "provenance": []
    },
    "kernelspec": {
      "name": "python3",
      "display_name": "Python 3"
    },
    "accelerator": "GPU"
  },
  "cells": [
    {
      "cell_type": "code",
      "metadata": {
        "id": "wYtuKeK0dImp",
        "colab_type": "code",
        "colab": {}
      },
      "source": [
        "import csv\n",
        "import numpy as np\n",
        "import tensorflow as tf\n",
        "from tensorflow.keras.preprocessing.image import ImageDataGenerator\n",
        "from google.colab import files"
      ],
      "execution_count": 0,
      "outputs": []
    },
    {
      "cell_type": "markdown",
      "metadata": {
        "id": "EmMyh9_mkDHF",
        "colab_type": "text"
      },
      "source": [
        "The data for this exercise is available at: https://www.kaggle.com/datamunge/sign-language-mnist/home\n",
        "\n",
        "Sign up and download to find 2 CSV files: sign_mnist_test.csv and sign_mnist_train.csv -- You will upload both of them using this button before you can continue.\n"
      ]
    },
    {
      "cell_type": "code",
      "metadata": {
        "id": "ycWbPjdkHvRz",
        "colab_type": "code",
        "colab": {}
      },
      "source": [
        "setting an array element with a sequence."
      ],
      "execution_count": 0,
      "outputs": []
    },
    {
      "cell_type": "code",
      "metadata": {
        "id": "4kxw-_rmcnVu",
        "colab_type": "code",
        "outputId": "06c8c331-e169-4ce6-9030-bc56d242fb03",
        "colab": {
          "base_uri": "https://localhost:8080/",
          "height": 85
        }
      },
      "source": [
        "def get_data(filename):\n",
        "    with open(filename) as training_file:\n",
        "        csv_reader = csv.reader(training_file, delimiter = \",\")\n",
        "        first_line = True\n",
        "        temp_images = []\n",
        "        temp_labels = []\n",
        "        for row in csv_reader:\n",
        "            if first_line:\n",
        "                # print(\"Ignoring first line\")\n",
        "                first_line = False\n",
        "            else:\n",
        "                temp_labels.append(row[0])\n",
        "                image_data = row[1:785]\n",
        "                image_data_as_array = np.array_split(image_data, 28)\n",
        "                temp_images.append(image_data_as_array)\n",
        "        images = np.array(temp_images).astype(\"float\")\n",
        "        labels = np.array(temp_labels).astype(\"float\")\n",
        "    return images, labels\n",
        "\n",
        "\n",
        "training_images, training_labels = get_data(\"sign_mnist_train.csv\")\n",
        "testing_images, testing_labels = get_data(\"sign_mnist_test.csv\")\n",
        "\n",
        "print(training_images.shape)\n",
        "print(training_labels.shape)\n",
        "print(testing_images.shape)\n",
        "print(testing_labels.shape)\n"
      ],
      "execution_count": 2,
      "outputs": [
        {
          "output_type": "stream",
          "text": [
            "(27455, 28, 28)\n",
            "(27455,)\n",
            "(7172, 28, 28)\n",
            "(7172,)\n"
          ],
          "name": "stdout"
        }
      ]
    },
    {
      "cell_type": "code",
      "metadata": {
        "id": "awoqRpyZdQkD",
        "colab_type": "code",
        "outputId": "e737b473-24ad-481c-e2b5-d49e23539d94",
        "colab": {
          "base_uri": "https://localhost:8080/",
          "height": 51
        }
      },
      "source": [
        "training_images = np.expand_dims(training_images, axis = 3)\n",
        "testing_images = np.expand_dims(testing_images, axis = 3)\n",
        "\n",
        "train_datagen = ImageDataGenerator(\n",
        "    rescale = 1. / 255,\n",
        "    rotation_range = 40,\n",
        "    width_shift_range = 0.2,\n",
        "    height_shift_range = 0.2,\n",
        "    shear_range = 0.2,\n",
        "    zoom_range = 0.2,\n",
        "    horizontal_flip = True,\n",
        "    fill_mode = \"nearest\")\n",
        "\n",
        "validation_datagen = ImageDataGenerator(\n",
        "    rescale = 1. / 255)\n",
        "\n",
        "print(training_images.shape)\n",
        "print(testing_images.shape)"
      ],
      "execution_count": 3,
      "outputs": [
        {
          "output_type": "stream",
          "text": [
            "(27455, 28, 28, 1)\n",
            "(7172, 28, 28, 1)\n"
          ],
          "name": "stdout"
        }
      ]
    },
    {
      "cell_type": "code",
      "metadata": {
        "id": "Rmb7S32cgRqS",
        "colab_type": "code",
        "outputId": "c4879683-2fbe-41d6-f803-2fabca0114fd",
        "colab": {
          "base_uri": "https://localhost:8080/",
          "height": 1000
        }
      },
      "source": [
        "model = tf.keras.models.Sequential([\n",
        "    tf.keras.layers.Conv2D(64, (3, 3), activation = \"relu\", input_shape = (28, 28, 1)),\n",
        "    tf.keras.layers.MaxPooling2D(2, 2),\n",
        "    tf.keras.layers.Conv2D(64, (3, 3), activation = \"relu\"),\n",
        "    tf.keras.layers.MaxPooling2D(2, 2),\n",
        "    tf.keras.layers.Flatten(),\n",
        "    tf.keras.layers.Dense(128, activation = tf.nn.relu),\n",
        "    tf.keras.layers.Dense(26, activation = tf.nn.softmax)])\n",
        "\n",
        "model.compile(optimizer = \"adam\",\n",
        "              loss = \"sparse_categorical_crossentropy\",\n",
        "              metrics = [\"accuracy\"])\n",
        "\n",
        "history = model.fit_generator(train_datagen.flow(training_images, training_labels, batch_size = 32),\n",
        "                              steps_per_epoch = len(training_images) / 32,\n",
        "                              epochs = 15,\n",
        "                              validation_data = validation_datagen.flow(testing_images, testing_labels, batch_size = 32),\n",
        "                              validation_steps = len(testing_images) / 32)\n",
        "\n",
        "model.evaluate(testing_images, testing_labels)\n"
      ],
      "execution_count": 4,
      "outputs": [
        {
          "output_type": "stream",
          "text": [
            "Epoch 1/15\n",
            "WARNING:tensorflow:From /usr/local/lib/python3.6/dist-packages/tensorflow/python/ops/math_grad.py:1250: add_dispatch_support.<locals>.wrapper (from tensorflow.python.ops.array_ops) is deprecated and will be removed in a future version.\n",
            "Instructions for updating:\n",
            "Use tf.where in 2.0, which has the same broadcast rule as np.where\n",
            "858/857 [==============================] - 51s 60ms/step - loss: 2.8381 - accuracy: 0.1406 - val_loss: 2.2455 - val_accuracy: 0.3023\n",
            "Epoch 2/15\n",
            "858/857 [==============================] - 48s 56ms/step - loss: 2.1001 - accuracy: 0.3308 - val_loss: 1.8516 - val_accuracy: 0.3727\n",
            "Epoch 3/15\n",
            "858/857 [==============================] - 48s 56ms/step - loss: 1.7346 - accuracy: 0.4440 - val_loss: 1.0222 - val_accuracy: 0.6583\n",
            "Epoch 4/15\n",
            "858/857 [==============================] - 47s 54ms/step - loss: 1.5174 - accuracy: 0.5062 - val_loss: 0.9753 - val_accuracy: 0.6577\n",
            "Epoch 5/15\n",
            "858/857 [==============================] - 48s 56ms/step - loss: 1.3428 - accuracy: 0.5619 - val_loss: 0.8247 - val_accuracy: 0.7023\n",
            "Epoch 6/15\n",
            "858/857 [==============================] - 47s 55ms/step - loss: 1.2232 - accuracy: 0.6001 - val_loss: 0.6937 - val_accuracy: 0.7694\n",
            "Epoch 7/15\n",
            "858/857 [==============================] - 48s 56ms/step - loss: 1.1378 - accuracy: 0.6256 - val_loss: 0.6520 - val_accuracy: 0.7752\n",
            "Epoch 8/15\n",
            "858/857 [==============================] - 49s 57ms/step - loss: 1.0637 - accuracy: 0.6529 - val_loss: 0.6714 - val_accuracy: 0.7669\n",
            "Epoch 9/15\n",
            "858/857 [==============================] - 48s 56ms/step - loss: 0.9969 - accuracy: 0.6728 - val_loss: 0.5187 - val_accuracy: 0.8161\n",
            "Epoch 10/15\n",
            "858/857 [==============================] - 50s 59ms/step - loss: 0.9404 - accuracy: 0.6882 - val_loss: 0.5555 - val_accuracy: 0.7992\n",
            "Epoch 11/15\n",
            "858/857 [==============================] - 50s 58ms/step - loss: 0.8942 - accuracy: 0.7021 - val_loss: 0.5461 - val_accuracy: 0.8063\n",
            "Epoch 12/15\n",
            "858/857 [==============================] - 50s 58ms/step - loss: 0.8612 - accuracy: 0.7164 - val_loss: 0.5095 - val_accuracy: 0.8143\n",
            "Epoch 13/15\n",
            "858/857 [==============================] - 49s 58ms/step - loss: 0.8152 - accuracy: 0.7253 - val_loss: 0.4396 - val_accuracy: 0.8629\n",
            "Epoch 14/15\n",
            "858/857 [==============================] - 50s 58ms/step - loss: 0.7857 - accuracy: 0.7399 - val_loss: 0.4617 - val_accuracy: 0.8313\n",
            "Epoch 15/15\n",
            "858/857 [==============================] - 50s 58ms/step - loss: 0.7587 - accuracy: 0.7461 - val_loss: 0.4054 - val_accuracy: 0.8602\n",
            "7172/7172 [==============================] - 3s 368us/sample - loss: 6.3143 - accuracy: 0.6039\n"
          ],
          "name": "stdout"
        },
        {
          "output_type": "execute_result",
          "data": {
            "text/plain": [
              "[6.314259215832022, 0.6038762]"
            ]
          },
          "metadata": {
            "tags": []
          },
          "execution_count": 4
        }
      ]
    },
    {
      "cell_type": "code",
      "metadata": {
        "id": "_Q3Zpr46dsij",
        "colab_type": "code",
        "outputId": "4e3af2e3-b5b3-47da-dc86-c1e558b9eebb",
        "colab": {
          "base_uri": "https://localhost:8080/",
          "height": 545
        }
      },
      "source": [
        "import matplotlib.pyplot as plt\n",
        "acc = history.history[\"accuracy\"]\n",
        "val_acc = history.history[\"val_accuracy\"]\n",
        "loss = history.history[\"loss\"]\n",
        "val_loss = history.history[\"val_loss\"]\n",
        "\n",
        "epochs = range(len(acc))\n",
        "\n",
        "plt.plot(epochs, acc, \"r\", label = \"Training accuracy\")\n",
        "plt.plot(epochs, val_acc, \"b\", label = \"Validation accuracy\")\n",
        "plt.title(\"Training and validation accuracy\")\n",
        "plt.legend()\n",
        "plt.figure()\n",
        "\n",
        "plt.plot(epochs, loss, \"r\", label = \"Training Loss\")\n",
        "plt.plot(epochs, val_loss, \"b\", label = \"Validation Loss\")\n",
        "plt.title(\"Training and validation loss\")\n",
        "plt.legend()\n",
        "\n",
        "plt.show()"
      ],
      "execution_count": 5,
      "outputs": [
        {
          "output_type": "display_data",
          "data": {
            "image/png": "[encoded data removed]",
            "text/plain": [
              "<Figure size 432x288 with 1 Axes>"
            ]
          },
          "metadata": {
            "tags": []
          }
        },
        {
          "output_type": "display_data",
          "data": {
            "image/png": "[encoded data removed]",
            "text/plain": [
              "<Figure size 432x288 with 1 Axes>"
            ]
          },
          "metadata": {
            "tags": []
          }
        }
      ]
    }
  ]
}