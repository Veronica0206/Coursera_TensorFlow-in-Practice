{
 "cells": [
  {
   "cell_type": "code",
   "execution_count": null,
   "metadata": {
    "colab": {},
    "colab_type": "code",
    "id": "wYtuKeK0dImp"
   },
   "outputs": [],
   "source": [
    "import csv\n",
    "import numpy as np\n",
    "import tensorflow as tf\n",
    "from tensorflow.keras.preprocessing.image import ImageDataGenerator\n",
    "from google.colab import files"
   ]
  },
  {
   "cell_type": "markdown",
   "metadata": {
    "colab_type": "text",
    "id": "EmMyh9_mkDHF"
   },
   "source": [
    "The data for this exercise is available at: https://www.kaggle.com/datamunge/sign-language-mnist/home\n",
    "\n",
    "Sign up and download to find 2 CSV files: sign_mnist_test.csv and sign_mnist_train.csv -- You will upload both of them using this button before you can continue.\n"
   ]
  },
  {
   "cell_type": "code",
   "execution_count": null,
   "metadata": {
    "colab": {
     "height": 106
    },
    "colab_type": "code",
    "id": "IcLOZlnnc_N7",
    "outputId": "f902689f-06ab-422b-a15d-ceee438a19cb"
   },
   "outputs": [],
   "source": [
    "uploaded = files.upload()"
   ]
  },
  {
   "cell_type": "code",
   "execution_count": null,
   "metadata": {
    "colab": {
     "height": 86
    },
    "colab_type": "code",
    "id": "4kxw-_rmcnVu",
    "outputId": "3d62714a-acc3-4aef-98ec-10fee8e7ab50"
   },
   "outputs": [],
   "source": [
    "def get_data(filename):\n",
    "    # You will need to write code that will read the file passed\n",
    "    # into this function. The first line contains the column headers\n",
    "    # so you should ignore it\n",
    "    # Each successive line contians 785 comma separated values between 0 and 255\n",
    "    # The first value is the label\n",
    "    # The rest are the pixel values for that picture\n",
    "    # The function will return 2 np.array types. One with all the labels\n",
    "    # One with all the images\n",
    "    #\n",
    "    # Tips: \n",
    "    # If you read a full line (as 'row') then row[0] has the label\n",
    "    # and row[1:785] has the 784 pixel values\n",
    "    # Take a look at np.array_split to turn the 784 pixels into 28x28\n",
    "    # You are reading in strings, but need the values to be floats\n",
    "    # Check out np.array().astype for a conversion\n",
    "    with open(filename) as training_file:\n",
    "        # Your code starts here\n",
    "        csv_reader = csv.reader(training_file, delimiter = \",\")\n",
    "        first_line = True\n",
    "        temp_images = []\n",
    "        temp_labels = []\n",
    "        for row in csv_reader:\n",
    "            if first_line:\n",
    "                # print(\"Ignoring first line\")\n",
    "                first_line = False\n",
    "            else:\n",
    "                temp_labels.append(row[0])\n",
    "                image_data = row[1:785]\n",
    "                image_data_as_array = np.array_split(image_data, 28)\n",
    "                temp_images.append(image_data_as_array)\n",
    "        images = np.array(temp_images).astype(\"float\")\n",
    "        labels = np.array(temp_labels).astype(\"float\")\n",
    "        # Your code ends here\n",
    "    return images, labels\n",
    "\n",
    "\n",
    "training_images, training_labels = get_data(\"sign_mnist_train.csv\")\n",
    "testing_images, testing_labels = get_data(\"sign_mnist_test.csv\")\n",
    "\n",
    "print(training_images.shape)\n",
    "print(training_labels.shape)\n",
    "print(testing_images.shape)\n",
    "print(testing_labels.shape)\n"
   ]
  },
  {
   "cell_type": "code",
   "execution_count": null,
   "metadata": {
    "colab": {
     "height": 52
    },
    "colab_type": "code",
    "id": "awoqRpyZdQkD",
    "outputId": "a223a6f6-29f2-4f5f-8ccf-80f36d3368d1"
   },
   "outputs": [],
   "source": [
    "training_images = np.expand_dims(training_images, axis = 3) # Your Code Here\n",
    "testing_images = np.expand_dims(testing_images, axis = 3) # Your Code Here\n",
    "\n",
    "train_datagen = ImageDataGenerator(\n",
    "    rescale = 1. / 255, \n",
    "    rotation_range = 40, \n",
    "    width_shift_range = 0.2, \n",
    "    height_shift_range = 0.2, \n",
    "    shear_range = 0.2, \n",
    "    zoom_range = 0.2, \n",
    "    horizontal_flip = True, \n",
    "    fill_mode = \"nearest\") # Your Code Here\n",
    "\n",
    "validation_datagen = ImageDataGenerator(\n",
    "    rescale = 1./255) # Your Code Here\n",
    "\n",
    "print(training_images.shape)\n",
    "print(testing_images.shape)"
   ]
  },
  {
   "cell_type": "code",
   "execution_count": null,
   "metadata": {
    "colab": {
     "height": 570
    },
    "colab_type": "code",
    "id": "Rmb7S32cgRqS",
    "outputId": "d1cbfc47-3a0a-4605-f1be-fa968032283d"
   },
   "outputs": [],
   "source": [
    "model = tf.keras.models.Sequential([\n",
    "    tf.keras.layers.Conv2D(64, (3, 3),  activation = \"relu\",  input_shape = (28, 28, 1)),  \n",
    "    tf.keras.layers.MaxPooling2D(2, 2),  \n",
    "    tf.keras.layers.Conv2D(64, (3, 3), activation = \"relu\"), \n",
    "    tf.keras.layers.MaxPooling2D(2, 2), \n",
    "    tf.keras.layers.Flatten(), \n",
    "    tf.keras.layers.Dense(128, activation = tf.nn.relu), \n",
    "    tf.keras.layers.Dense(26, activation = tf.nn.softmax)]) # Your Code Here\n",
    "\n",
    "# Compile Model. \n",
    "model.compile(optimizer = tf.train.AdamOptimizer(), \n",
    "              loss = \"sparse_categorical_crossentropy\", \n",
    "              metrics = [\"accuracy\"]) # Your Code Here\n",
    "\n",
    "# Train the Model\n",
    "history = model.fit_generator(train_datagen.flow(training_images, training_labels, batch_size = 32), \n",
    "                              steps_per_epoch = len(training_images) / 32, \n",
    "                              epochs = 15, \n",
    "                              validation_data = validation_datagen.flow(testing_images, testing_labels, batch_size = 32), \n",
    "                              validation_steps = len(testing_images) / 32) # Your Code Here\n",
    "\n",
    "model.evaluate(testing_images, testing_labels)\n"
   ]
  },
  {
   "cell_type": "code",
   "execution_count": null,
   "metadata": {
    "colab": {
     "height": 561
    },
    "colab_type": "code",
    "id": "_Q3Zpr46dsij",
    "outputId": "fd4001fb-9a21-4192-dbdb-9a2f2174e769"
   },
   "outputs": [],
   "source": [
    "import matplotlib.pyplot as plt\n",
    "acc = history.history[\"acc\"] # Your Code Here\n",
    "val_acc = history.history[\"val_acc\"] # Your Code Here\n",
    "loss = history.history[\"loss\"] # Your Code Here\n",
    "val_loss = history.history[\"val_loss\"] # Your Code Here\n",
    "\n",
    "epochs = range(len(acc))\n",
    "\n",
    "plt.plot(epochs, acc, \"r\", label = \"Training accuracy\")\n",
    "plt.plot(epochs, val_acc, \"b\", label = \"Validation accuracy\")\n",
    "plt.title(\"Training and validation accuracy\")\n",
    "plt.legend()\n",
    "plt.figure()\n",
    "\n",
    "plt.plot(epochs, loss, \"r\", label = \"Training Loss\")\n",
    "plt.plot(epochs, val_loss, \"b\", label = \"Validation Loss\")\n",
    "plt.title(\"Training and validation loss\")\n",
    "plt.legend()\n",
    "\n",
    "plt.show()"
   ]
  }
 ],
 "metadata": {
  "colab": {
   "name": "Exercise 8 - Answer.ipynb",
   "provenance": [],
   "version": "0.3.2"
  },
  "kernelspec": {
   "display_name": "Python 3.6 (tensorflow)",
   "language": "python",
   "name": "tensorflow"
  },
  "language_info": {
   "codemirror_mode": {
    "name": "ipython",
    "version": 3
   },
   "file_extension": ".py",
   "mimetype": "text/x-python",
   "name": "python",
   "nbconvert_exporter": "python",
   "pygments_lexer": "ipython3",
   "version": "3.6.9"
  }
 },
 "nbformat": 4,
 "nbformat_minor": 1
}
