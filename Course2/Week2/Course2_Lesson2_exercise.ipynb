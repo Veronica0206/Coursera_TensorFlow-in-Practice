{
 "cells": [
  {
   "cell_type": "code",
   "execution_count": 1,
   "metadata": {
    "colab": {},
    "colab_type": "code",
    "id": "dn-6c02VmqiN"
   },
   "outputs": [],
   "source": [
    "import os\n",
    "import zipfile\n",
    "import random\n",
    "import tensorflow as tf\n",
    "from tensorflow.keras.optimizers import RMSprop\n",
    "from tensorflow.keras.preprocessing.image import ImageDataGenerator\n",
    "from shutil import copyfile"
   ]
  },
  {
   "cell_type": "code",
   "execution_count": 2,
   "metadata": {
    "colab": {
     "base_uri": "https://localhost:8080/",
     "height": 204
    },
    "colab_type": "code",
    "id": "3sd9dQWa23aj",
    "outputId": "ae5be425-f314-4cbd-be53-8951372d455b"
   },
   "outputs": [
    {
     "name": "stdout",
     "output_type": "stream",
     "text": [
      "--2019-09-14 22:05:42--  https://download.microsoft.com/download/3/E/1/3E1C3F21-ECDB-4869-8368-6DEBA77B919F/kagglecatsanddogs_3367a.zip\n",
      "Resolving download.microsoft.com... 96.17.190.3\n",
      "Connecting to download.microsoft.com|96.17.190.3|:443... connected.\n",
      "HTTP request sent, awaiting response... 200 OK\n",
      "Length: 824894548 (787M) [application/octet-stream]\n",
      "Saving to: '/tmp/cats-and-dogs.zip'\n",
      "\n",
      "/tmp/cats-and-dogs. 100%[===================>] 786.68M  7.37MB/s    in 84s     \n",
      "\n",
      "2019-09-14 22:07:07 (9.35 MB/s) - '/tmp/cats-and-dogs.zip' saved [824894548/824894548]\n",
      "\n"
     ]
    }
   ],
   "source": [
    "# If the URL doesn't work, visit https://www.microsoft.com/en-us/download/confirmation.aspx?id = 54765\n",
    "# And right click on the \"Download Manually\" link to get a new URL to the dataset\n",
    "\n",
    "# Note: This is a very large dataset and will take time to download\n",
    "\n",
    "!/miniconda3/envs/tensorflow/bin/wget --no-check-certificate \\\n",
    "    \"https://download.microsoft.com/download/3/E/1/3E1C3F21-ECDB-4869-8368-6DEBA77B919F/kagglecatsanddogs_3367a.zip\" \\\n",
    "    -O \"/tmp/cats-and-dogs.zip\"\n",
    "\n",
    "local_zip = \"/tmp/cats-and-dogs.zip\"\n",
    "zip_ref = zipfile.ZipFile(local_zip, \"r\")\n",
    "zip_ref.extractall(\"/tmp\")\n",
    "zip_ref.close()\n"
   ]
  },
  {
   "cell_type": "code",
   "execution_count": 3,
   "metadata": {
    "colab": {
     "base_uri": "https://localhost:8080/",
     "height": 51
    },
    "colab_type": "code",
    "id": "DM851ZmN28J3",
    "outputId": "e3df356d-a9a5-4125-df76-ef6c81dad4aa"
   },
   "outputs": [
    {
     "name": "stdout",
     "output_type": "stream",
     "text": [
      "12501\n",
      "12501\n"
     ]
    }
   ],
   "source": [
    "print(len(os.listdir(\"/tmp/PetImages/Cat/\")))\n",
    "print(len(os.listdir(\"/tmp/PetImages/Dog/\")))\n",
    "\n",
    "# Expected Output:\n",
    "# 12501\n",
    "# 12501"
   ]
  },
  {
   "cell_type": "code",
   "execution_count": 4,
   "metadata": {
    "colab": {},
    "colab_type": "code",
    "id": "F-QkLjxpmyK2"
   },
   "outputs": [],
   "source": [
    "try:\n",
    "    #YOUR CODE GOES HERE\n",
    "    os.mkdir(\"/tmp/cats-v-dogs\")\n",
    "    os.mkdir(\"/tmp/cats-v-dogs/training\")\n",
    "    os.mkdir(\"/tmp/cats-v-dogs/testing\")\n",
    "    os.mkdir(\"/tmp/cats-v-dogs/training/cats\")\n",
    "    os.mkdir(\"/tmp/cats-v-dogs/training/dogs\")\n",
    "    os.mkdir(\"/tmp/cats-v-dogs/testing/cats\")\n",
    "    os.mkdir(\"/tmp/cats-v-dogs/testing/dogs\")\n",
    "except OSError:\n",
    "    pass"
   ]
  },
  {
   "cell_type": "code",
   "execution_count": 5,
   "metadata": {
    "colab": {
     "base_uri": "https://localhost:8080/",
     "height": 51
    },
    "colab_type": "code",
    "id": "zvSODo0f9LaU",
    "outputId": "092ef3f2-76f7-416a-8dd5-145308cd9976"
   },
   "outputs": [
    {
     "name": "stdout",
     "output_type": "stream",
     "text": [
      "666.jpg is zero length, so ignoring.\n",
      "11702.jpg is zero length, so ignoring.\n"
     ]
    }
   ],
   "source": [
    "# Write a python function called split_data which takes\n",
    "# a SOURCE directory containing the files\n",
    "# a TRAINING directory that a portion of the files will be copied to\n",
    "# a TESTING directory that a portion of the files will be copie to\n",
    "# a SPLIT SIZE to determine the portion\n",
    "# The files should also be randomized, so that the training set is a random\n",
    "# X% of the files, and the test set is the remaining files\n",
    "# SO, for example, if SOURCE is PetImages/Cat, and SPLIT SIZE is .9\n",
    "# Then 90% of the images in PetImages/Cat will be copied to the TRAINING dir\n",
    "# and 10% of the images will be copied to the TESTING dir\n",
    "# Also -- All images should be checked, and if they have a zero file length,\n",
    "# they will not be copied over\n",
    "#\n",
    "# os.listdir(DIRECTORY) gives you a listing of the contents of that directory\n",
    "# os.path.getsize(PATH) gives you the size of the file\n",
    "# copyfile(source, destination) copies a file from source to destination\n",
    "# random.sample(list, len(list)) shuffles a list\n",
    "def split_data(SOURCE, TRAINING, TESTING, SPLIT_SIZE):\n",
    "    # YOUR CODE STARTS HERE\n",
    "    files = []\n",
    "    for filename in os.listdir(SOURCE):\n",
    "        file = SOURCE + filename\n",
    "        if os.path.getsize(file) > 0:\n",
    "            files.append(filename)\n",
    "        else:\n",
    "            print(filename + \" is zero length, so ignoring.\")\n",
    "\n",
    "    training_length = int(len(files) * SPLIT_SIZE)\n",
    "    testing_length = int(len(files) - training_length)\n",
    "    shuffled_set = random.sample(files, len(files))\n",
    "    training_set = shuffled_set[0:training_length]\n",
    "    testing_set = shuffled_set[:testing_length]\n",
    "\n",
    "    for filename in training_set:\n",
    "        this_file = SOURCE + filename\n",
    "        destination = TRAINING + filename\n",
    "        copyfile(this_file, destination)\n",
    "\n",
    "    for filename in testing_set:\n",
    "        this_file = SOURCE + filename\n",
    "        destination = TESTING + filename\n",
    "        copyfile(this_file, destination)\n",
    "    # YOUR CODE ENDS HERE\n",
    "    \n",
    "\n",
    "CAT_SOURCE_DIR = \"/tmp/PetImages/Cat/\"\n",
    "TRAINING_CATS_DIR = \"/tmp/cats-v-dogs/training/cats/\"\n",
    "TESTING_CATS_DIR = \"/tmp/cats-v-dogs/testing/cats/\"\n",
    "DOG_SOURCE_DIR = \"/tmp/PetImages/Dog/\"\n",
    "TRAINING_DOGS_DIR = \"/tmp/cats-v-dogs/training/dogs/\"\n",
    "TESTING_DOGS_DIR = \"/tmp/cats-v-dogs/testing/dogs/\"\n",
    "\n",
    "split_size = .9\n",
    "split_data(CAT_SOURCE_DIR, TRAINING_CATS_DIR, TESTING_CATS_DIR, split_size)\n",
    "split_data(DOG_SOURCE_DIR, TRAINING_DOGS_DIR, TESTING_DOGS_DIR, split_size)\n",
    "\n",
    "# Expected output\n",
    "# 666.jpg is zero length, so ignoring\n",
    "# 11702.jpg is zero length, so ignoring"
   ]
  },
  {
   "cell_type": "code",
   "execution_count": 6,
   "metadata": {
    "colab": {
     "base_uri": "https://localhost:8080/",
     "height": 85
    },
    "colab_type": "code",
    "id": "hwHXFhVG3786",
    "outputId": "2c384811-df24-47d4-8c02-ec567dcea043"
   },
   "outputs": [
    {
     "name": "stdout",
     "output_type": "stream",
     "text": [
      "12382\n",
      "12391\n",
      "2397\n",
      "2350\n"
     ]
    }
   ],
   "source": [
    "print(len(os.listdir(\"/tmp/cats-v-dogs/training/cats/\")))\n",
    "print(len(os.listdir(\"/tmp/cats-v-dogs/training/dogs/\")))\n",
    "print(len(os.listdir(\"/tmp/cats-v-dogs/testing/cats/\")))\n",
    "print(len(os.listdir(\"/tmp/cats-v-dogs/testing/dogs/\")))\n",
    "\n",
    "# Expected output:\n",
    "# 11250\n",
    "# 11250\n",
    "# 1250\n",
    "# 1250"
   ]
  },
  {
   "cell_type": "code",
   "execution_count": 7,
   "metadata": {
    "colab": {
     "base_uri": "https://localhost:8080/",
     "height": 159
    },
    "colab_type": "code",
    "id": "-BQrav4anTmj",
    "outputId": "3ad6a8a1-4d9d-4a15-ef9c-013f242e3d5d"
   },
   "outputs": [],
   "source": [
    "model = tf.keras.models.Sequential([\n",
    "    #YOUR CODE HERE\n",
    "    tf.keras.layers.Conv2D(16, (3, 3), activation = \"relu\", input_shape = (150, 150, 3)),\n",
    "    tf.keras.layers.MaxPooling2D(2, 2),\n",
    "    tf.keras.layers.Conv2D(32, (3, 3), activation = \"relu\"),\n",
    "    tf.keras.layers.MaxPooling2D(2, 2),\n",
    "    tf.keras.layers.Conv2D(64, (3, 3), activation = \"relu\"),\n",
    "    tf.keras.layers.MaxPooling2D(2, 2),\n",
    "    tf.keras.layers.Flatten(),\n",
    "    tf.keras.layers.Dense(512, activation = \"relu\"),\n",
    "    tf.keras.layers.Dense(1, activation = \"sigmoid\")\n",
    "])\n",
    "\n",
    "model.compile(optimizer = RMSprop(lr = 0.001), loss = \"binary_crossentropy\", metrics = [\"acc\"])\n"
   ]
  },
  {
   "cell_type": "code",
   "execution_count": 8,
   "metadata": {
    "colab": {
     "base_uri": "https://localhost:8080/",
     "height": 51
    },
    "colab_type": "code",
    "id": "fQrZfVgz4j2g",
    "outputId": "0b77e927-fc92-40e3-dd4f-6ab227031505"
   },
   "outputs": [
    {
     "name": "stdout",
     "output_type": "stream",
     "text": [
      "Found 24771 images belonging to 2 classes.\n",
      "Found 4747 images belonging to 2 classes.\n"
     ]
    }
   ],
   "source": [
    "TRAINING_DIR = \"/tmp/cats-v-dogs/training/\" #YOUR CODE HERE\n",
    "# Experiment with your own parameters here to really try to drive it to 99.9% accuracy or better\n",
    "train_datagen = ImageDataGenerator(rescale = 1./255,\n",
    "      rotation_range = 40,\n",
    "      width_shift_range = 0.2,\n",
    "      height_shift_range = 0.2,\n",
    "      shear_range = 0.2,\n",
    "      zoom_range = 0.2,\n",
    "      horizontal_flip = True,\n",
    "      fill_mode = \"nearest\") #YOUR CODE HERE\n",
    "train_generator = train_datagen.flow_from_directory(TRAINING_DIR,\n",
    "                                                    batch_size = 100,\n",
    "                                                    class_mode = \"binary\",\n",
    "                                                    target_size = (150, 150)) #YOUR CODE HERE\n",
    "\n",
    "VALIDATION_DIR = \"/tmp/cats-v-dogs/testing/\" #YOUR CODE HERE\n",
    "# Experiment with your own parameters here to really try to drive it to 99.9% accuracy or better\n",
    "validation_datagen = ImageDataGenerator(rescale = 1./255,\n",
    "      rotation_range = 40,\n",
    "      width_shift_range = 0.2,\n",
    "      height_shift_range = 0.2,\n",
    "      shear_range = 0.2,\n",
    "      zoom_range = 0.2,\n",
    "      horizontal_flip = True,\n",
    "      fill_mode = \"nearest\") #YOUR CODE HERE\n",
    "validation_generator = validation_datagen.flow_from_directory(VALIDATION_DIR,\n",
    "                                                              batch_size = 100,\n",
    "                                                              class_mode = \"binary\",\n",
    "                                                              target_size = (150, 150)) #YOUR CODE HERE\n",
    "\n",
    "# Expected Output:\n",
    "# Found 22498 images belonging to 2 classes.\n",
    "# Found 2500 images belonging to 2 classes."
   ]
  },
  {
   "cell_type": "code",
   "execution_count": 9,
   "metadata": {
    "colab": {
     "base_uri": "https://localhost:8080/",
     "height": 1000
    },
    "colab_type": "code",
    "id": "5qE1G6JB4fMn",
    "outputId": "e160f98f-f010-4c43-bbc0-35bdb871ee9a"
   },
   "outputs": [
    {
     "name": "stdout",
     "output_type": "stream",
     "text": [
      "Epoch 1/15\n",
      "WARNING:tensorflow:From //miniconda3/envs/tensorflow/lib/python3.6/site-packages/tensorflow/python/ops/math_grad.py:1250: add_dispatch_support.<locals>.wrapper (from tensorflow.python.ops.array_ops) is deprecated and will be removed in a future version.\n",
      "Instructions for updating:\n",
      "Use tf.where in 2.0, which has the same broadcast rule as np.where\n",
      "171/248 [===================>..........] - ETA: 6:54 - loss: 0.7513 - acc: 0.5771"
     ]
    },
    {
     "name": "stderr",
     "output_type": "stream",
     "text": [
      "//miniconda3/envs/tensorflow/lib/python3.6/site-packages/PIL/TiffImagePlugin.py:786: UserWarning: Possibly corrupt EXIF data.  Expecting to read 32 bytes but only got 0. Skipping tag 270\n",
      "  \" Skipping tag %s\" % (size, len(data), tag)\n",
      "//miniconda3/envs/tensorflow/lib/python3.6/site-packages/PIL/TiffImagePlugin.py:786: UserWarning: Possibly corrupt EXIF data.  Expecting to read 5 bytes but only got 0. Skipping tag 271\n",
      "  \" Skipping tag %s\" % (size, len(data), tag)\n",
      "//miniconda3/envs/tensorflow/lib/python3.6/site-packages/PIL/TiffImagePlugin.py:786: UserWarning: Possibly corrupt EXIF data.  Expecting to read 8 bytes but only got 0. Skipping tag 272\n",
      "  \" Skipping tag %s\" % (size, len(data), tag)\n",
      "//miniconda3/envs/tensorflow/lib/python3.6/site-packages/PIL/TiffImagePlugin.py:786: UserWarning: Possibly corrupt EXIF data.  Expecting to read 8 bytes but only got 0. Skipping tag 282\n",
      "  \" Skipping tag %s\" % (size, len(data), tag)\n",
      "//miniconda3/envs/tensorflow/lib/python3.6/site-packages/PIL/TiffImagePlugin.py:786: UserWarning: Possibly corrupt EXIF data.  Expecting to read 8 bytes but only got 0. Skipping tag 283\n",
      "  \" Skipping tag %s\" % (size, len(data), tag)\n",
      "//miniconda3/envs/tensorflow/lib/python3.6/site-packages/PIL/TiffImagePlugin.py:786: UserWarning: Possibly corrupt EXIF data.  Expecting to read 20 bytes but only got 0. Skipping tag 306\n",
      "  \" Skipping tag %s\" % (size, len(data), tag)\n",
      "//miniconda3/envs/tensorflow/lib/python3.6/site-packages/PIL/TiffImagePlugin.py:786: UserWarning: Possibly corrupt EXIF data.  Expecting to read 48 bytes but only got 0. Skipping tag 532\n",
      "  \" Skipping tag %s\" % (size, len(data), tag)\n",
      "//miniconda3/envs/tensorflow/lib/python3.6/site-packages/PIL/TiffImagePlugin.py:804: UserWarning: Corrupt EXIF data.  Expecting to read 2 bytes but only got 0. \n",
      "  warnings.warn(str(msg))\n"
     ]
    },
    {
     "name": "stdout",
     "output_type": "stream",
     "text": [
      "248/248 [==============================] - 1560s 6s/step - loss: 0.7165 - acc: 0.5972 - val_loss: 0.6278 - val_acc: 0.6217\n",
      "Epoch 2/15\n",
      "248/248 [==============================] - 1505s 6s/step - loss: 0.6039 - acc: 0.6714 - val_loss: 0.5684 - val_acc: 0.6969\n",
      "Epoch 3/15\n",
      "248/248 [==============================] - 1211s 5s/step - loss: 0.5708 - acc: 0.7023 - val_loss: 0.5613 - val_acc: 0.7080\n",
      "Epoch 4/15\n",
      "248/248 [==============================] - 1177s 5s/step - loss: 0.5416 - acc: 0.7275 - val_loss: 0.5036 - val_acc: 0.7506\n",
      "Epoch 5/15\n",
      "248/248 [==============================] - 1015s 4s/step - loss: 0.5226 - acc: 0.7395 - val_loss: 0.4828 - val_acc: 0.7664\n",
      "Epoch 6/15\n",
      "248/248 [==============================] - 1014s 4s/step - loss: 0.5049 - acc: 0.7527 - val_loss: 0.5517 - val_acc: 0.7257\n",
      "Epoch 7/15\n",
      "248/248 [==============================] - 953s 4s/step - loss: 0.4938 - acc: 0.7597 - val_loss: 0.4755 - val_acc: 0.7744\n",
      "Epoch 8/15\n",
      "248/248 [==============================] - 609s 2s/step - loss: 0.4864 - acc: 0.7676 - val_loss: 0.4514 - val_acc: 0.7826\n",
      "Epoch 9/15\n",
      "248/248 [==============================] - 606s 2s/step - loss: 0.4753 - acc: 0.7730 - val_loss: 0.4441 - val_acc: 0.7914\n",
      "Epoch 10/15\n",
      "248/248 [==============================] - 609s 2s/step - loss: 0.4666 - acc: 0.7810 - val_loss: 0.4341 - val_acc: 0.7982\n",
      "Epoch 11/15\n",
      "248/248 [==============================] - 626s 3s/step - loss: 0.4575 - acc: 0.7889 - val_loss: 0.4426 - val_acc: 0.7908\n",
      "Epoch 12/15\n",
      "248/248 [==============================] - 640s 3s/step - loss: 0.4479 - acc: 0.7907 - val_loss: 0.4685 - val_acc: 0.7748\n",
      "Epoch 13/15\n",
      "248/248 [==============================] - 639s 3s/step - loss: 0.4375 - acc: 0.7995 - val_loss: 0.4590 - val_acc: 0.7809\n",
      "Epoch 14/15\n",
      "248/248 [==============================] - 642s 3s/step - loss: 0.4368 - acc: 0.7967 - val_loss: 0.4069 - val_acc: 0.8148\n",
      "Epoch 15/15\n",
      "248/248 [==============================] - 641s 3s/step - loss: 0.4232 - acc: 0.8085 - val_loss: 0.4045 - val_acc: 0.8186\n"
     ]
    }
   ],
   "source": [
    "# Note that this may take some time.\n",
    "history = model.fit_generator(train_generator,\n",
    "                              epochs = 15,\n",
    "                              verbose = 1,\n",
    "                              validation_data = validation_generator)\n",
    "# The expectation here is that the model will train, and that accuracy will be > 95% on both training and validation\n",
    "# i.e. acc:A1 and val_acc:A2 will be visible, and both A1 and A2 will be > .9"
   ]
  },
  {
   "cell_type": "code",
   "execution_count": 10,
   "metadata": {
    "colab": {
     "base_uri": "https://localhost:8080/",
     "height": 567
    },
    "colab_type": "code",
    "id": "MWZrJN4-65RC",
    "outputId": "193098ff-21dd-42aa-b21e-211b2bfa9ccf"
   },
   "outputs": [
    {
     "data": {
      "text/plain": [
       "<Figure size 432x288 with 0 Axes>"
      ]
     },
     "execution_count": 10,
     "metadata": {},
     "output_type": "execute_result"
    },
    {
     "data": {
      "image/png": "[encoded data removed]",
      "text/plain": [
       "<Figure size 432x288 with 1 Axes>"
      ]
     },
     "metadata": {
      "needs_background": "light"
     },
     "output_type": "display_data"
    },
    {
     "data": {
      "image/png": "[encoded data removed]",
      "text/plain": [
       "<Figure size 432x288 with 1 Axes>"
      ]
     },
     "metadata": {
      "needs_background": "light"
     },
     "output_type": "display_data"
    },
    {
     "data": {
      "text/plain": [
       "<Figure size 432x288 with 0 Axes>"
      ]
     },
     "metadata": {},
     "output_type": "display_data"
    }
   ],
   "source": [
    "%matplotlib inline\n",
    "\n",
    "import matplotlib.image  as mpimg\n",
    "import matplotlib.pyplot as plt\n",
    "\n",
    "#-----------------------------------------------------------\n",
    "# Retrieve a list of list results on training and test data\n",
    "# sets for each training epoch\n",
    "#-----------------------------------------------------------\n",
    "acc = history.history[\"acc\"]\n",
    "val_acc = history.history[\"val_acc\"]\n",
    "loss = history.history[\"loss\"]\n",
    "val_loss = history.history[\"val_loss\"]\n",
    "\n",
    "epochs = range(len(acc)) # Get number of epochs\n",
    "\n",
    "#------------------------------------------------\n",
    "# Plot training and validation accuracy per epoch\n",
    "#------------------------------------------------\n",
    "plt.plot(epochs, acc, \"r\", \"Training Accuracy\")\n",
    "plt.plot(epochs, val_acc, \"b\", \"Validation Accuracy\")\n",
    "plt.title(\"Training and validation accuracy\")\n",
    "plt.figure()\n",
    "\n",
    "#------------------------------------------------\n",
    "# Plot training and validation loss per epoch\n",
    "#------------------------------------------------\n",
    "plt.plot(epochs, loss, \"r\", \"Training Loss\")\n",
    "plt.plot(epochs, val_loss, \"b\", \"Validation Loss\")\n",
    "plt.figure()\n",
    "\n",
    "\n",
    "# Desired output. Charts with training and validation metrics. No crash :)"
   ]
  },
  {
   "cell_type": "code",
   "execution_count": null,
   "metadata": {},
   "outputs": [],
   "source": [
    "# Here\"s a codeblock just for fun. You should be able to upload an image here \n",
    "# and have it classified without crashing\n",
    "import numpy as np\n",
    "from google.colab import files\n",
    "from keras.preprocessing import image\n",
    "\n",
    "uploaded = files.upload()\n",
    "\n",
    "for fn in uploaded.keys():\n",
    "    # predicting images\n",
    "    path = \"/content/\" + fn\n",
    "    img = image.load_img(path, target_size = (150, 150)) # YOUR CODE HERE\n",
    "    x = image.img_to_array(img)\n",
    "    x = np.expand_dims(x, axis = 0)\n",
    "\n",
    "    images = np.vstack([x])\n",
    "    classes = model.predict(images, batch_size = 10)\n",
    "    print(classes[0])\n",
    "    if classes[0]>0.5:\n",
    "        print(fn + \" is a dog\")\n",
    "    else:\n",
    "        print(fn + \" is a cat\")"
   ]
  }
 ],
 "metadata": {
  "accelerator": "GPU",
  "colab": {
   "name": "Exercise 6 - Answer.ipynb",
   "provenance": [],
   "version": "0.3.2"
  },
  "kernelspec": {
   "display_name": "Python 3.6 (tensorflow)",
   "language": "python",
   "name": "tensorflow"
  },
  "language_info": {
   "codemirror_mode": {
    "name": "ipython",
    "version": 3
   },
   "file_extension": ".py",
   "mimetype": "text/x-python",
   "name": "python",
   "nbconvert_exporter": "python",
   "pygments_lexer": "ipython3",
   "version": "3.6.9"
  }
 },
 "nbformat": 4,
 "nbformat_minor": 1
}
