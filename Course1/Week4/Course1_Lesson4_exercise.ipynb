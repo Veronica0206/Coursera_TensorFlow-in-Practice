{
 "cells": [
  {
   "cell_type": "markdown",
   "metadata": {},
   "source": [
    "## Exercise 4\n",
    "Below is code with a link to a happy or sad dataset which contains 80 images, 40 happy and 40 sad. \n",
    "Create a convolutional neural network that trains to 100% accuracy on these images,  which cancels training upon hitting training accuracy of >.999\n",
    "\n",
    "Hint -- it will work best with 3 convolutional layers."
   ]
  },
  {
   "cell_type": "code",
   "execution_count": 1,
   "metadata": {
    "colab": {
     "base_uri": "https://localhost:8080/",
     "height": 204
    },
    "colab_type": "code",
    "id": "7Vti6p3PxmpS",
    "outputId": "f3af1d6c-89fa-4b78-cb98-4dffbc96fddd"
   },
   "outputs": [
    {
     "name": "stdout",
     "output_type": "stream",
     "text": [
      "--2019-09-14 21:48:46--  https://storage.googleapis.com/laurencemoroney-blog.appspot.com/happy-or-sad.zip\n",
      "Resolving storage.googleapis.com... 172.217.12.176\n",
      "Connecting to storage.googleapis.com|172.217.12.176|:443... connected.\n",
      "HTTP request sent, awaiting response... 200 OK\n",
      "Length: 2670333 (2.5M) [application/zip]\n",
      "Saving to: '/tmp/happy-or-sad.zip'\n",
      "\n",
      "/tmp/happy-or-sad.z 100%[===================>]   2.55M  8.37MB/s    in 0.3s    \n",
      "\n",
      "2019-09-14 21:48:47 (8.37 MB/s) - '/tmp/happy-or-sad.zip' saved [2670333/2670333]\n",
      "\n"
     ]
    }
   ],
   "source": [
    "import tensorflow as tf\n",
    "import os\n",
    "import zipfile\n",
    "\n",
    "\n",
    "DESIRED_ACCURACY = 0.999\n",
    "\n",
    "!/miniconda3/envs/tensorflow/bin/wget --no-check-certificate \\\n",
    "    \"https://storage.googleapis.com/laurencemoroney-blog.appspot.com/happy-or-sad.zip\" \\\n",
    "    -O \"/tmp/happy-or-sad.zip\"\n",
    "\n",
    "zip_ref = zipfile.ZipFile(\"/tmp/happy-or-sad.zip\", \"r\")\n",
    "zip_ref.extractall(\"/tmp/h-or-s\")\n",
    "zip_ref.close()\n"
   ]
  },
  {
   "cell_type": "code",
   "execution_count": 2,
   "metadata": {
    "colab": {},
    "colab_type": "code",
    "id": "6DLGbXXI1j_V"
   },
   "outputs": [],
   "source": [
    "# GRADED FUNCTION: train_happy_sad_model\n",
    "def train_happy_sad_model():\n",
    "    # Please write your code only where you are indicated.\n",
    "    # please do not remove # model fitting inline comments.\n",
    "\n",
    "    DESIRED_ACCURACY = 0.999\n",
    "\n",
    "    class myCallback(tf.keras.callbacks.Callback):\n",
    "        # your code\n",
    "        def on_epoch_end(self, epoch, logs = {}):\n",
    "            if (logs.get(\"accuracy\") > DESIRED_ACCURACY):\n",
    "                print(\"\\nReached 99.9% accuracy so cancelling training!\")\n",
    "                self.model.stop_training = True\n",
    "        # Your Code\n",
    "\n",
    "    callbacks = myCallback()\n",
    "    \n",
    "    # This Code Block should Define and Compile the Model. Please assume the images are 150 X 150 in your implementation.\n",
    "    model = tf.keras.models.Sequential([\n",
    "        # Your Code Here\n",
    "        ## The first convolution\n",
    "        tf.keras.layers.Conv2D(16, (3, 3), activation = \"relu\", input_shape = (150, 150, 3)),\n",
    "        tf.keras.layers.MaxPooling2D(2, 2),\n",
    "        ## The second convolution\n",
    "        tf.keras.layers.Conv2D(32, (3, 3), activation = \"relu\"),\n",
    "        tf.keras.layers.MaxPooling2D(2, 2),\n",
    "        ## The third convolution\n",
    "        tf.keras.layers.Conv2D(64, (3, 3), activation = \"relu\"),\n",
    "        tf.keras.layers.MaxPooling2D(2, 2),\n",
    "        ## Flatten\n",
    "        tf.keras.layers.Flatten(),\n",
    "        ## 512 neuron hidden layer\n",
    "        tf.keras.layers.Dense(512, activation = \"relu\"),\n",
    "        ## Only 1 output neuron.\n",
    "        tf.keras.layers.Dense(1, activation = \"sigmoid\")\n",
    "    ])\n",
    "\n",
    "    from tensorflow.keras.optimizers import RMSprop\n",
    "\n",
    "    model.compile(# Your Code Here #\n",
    "        optimizer = RMSprop(lr = 0.001),\n",
    "        loss = \"binary_crossentropy\",\n",
    "        metrics = [\"accuracy\"])\n",
    "        \n",
    "\n",
    "    # This code block should create an instance of an ImageDataGenerator called train_datagen \n",
    "    # And a train_generator by calling train_datagen.flow_from_directory\n",
    "\n",
    "    from tensorflow.keras.preprocessing.image import ImageDataGenerator\n",
    "\n",
    "    train_datagen = ImageDataGenerator(rescale = 1/255) # Your Code Here\n",
    "    \n",
    "    # Please use a target_size of 150 X 150.\n",
    "    train_generator = train_datagen.flow_from_directory(\n",
    "        # Your Code Here\n",
    "        \"/tmp/h-or-s\",\n",
    "        target_size = (150, 150),\n",
    "        batch_size = 128,\n",
    "        class_mode = \"binary\")\n",
    "    # Expected output: \"Found 80 images belonging to 2 classes\"\n",
    "\n",
    "    # This code block should call model.fit_generator and train for\n",
    "    # a number of epochs.\n",
    "    # model fitting\n",
    "    history = model.fit_generator(\n",
    "          # Your Code Here\n",
    "        train_generator,\n",
    "        steps_per_epoch = 8,\n",
    "        epochs = 15,\n",
    "        verbose = 1,\n",
    "        callbacks = [callbacks])\n",
    "    # model fitting\n",
    "    return history.history[\"accuracy\"][-1]"
   ]
  },
  {
   "cell_type": "code",
   "execution_count": 3,
   "metadata": {
    "colab": {
     "base_uri": "https://localhost:8080/",
     "height": 1000
    },
    "colab_type": "code",
    "id": "i1WdvLVePto5",
    "outputId": "17544325-5229-4743-d498-ece054d3695f"
   },
   "outputs": [
    {
     "name": "stdout",
     "output_type": "stream",
     "text": [
      "Found 80 images belonging to 2 classes.\n",
      "Epoch 1/15\n",
      "WARNING:tensorflow:From //miniconda3/envs/tensorflow/lib/python3.6/site-packages/tensorflow/python/ops/math_grad.py:1250: add_dispatch_support.<locals>.wrapper (from tensorflow.python.ops.array_ops) is deprecated and will be removed in a future version.\n",
      "Instructions for updating:\n",
      "Use tf.where in 2.0, which has the same broadcast rule as np.where\n",
      "8/8 [==============================] - 22s 3s/step - loss: 6.8356 - accuracy: 0.5000\n",
      "Epoch 2/15\n",
      "8/8 [==============================] - 18s 2s/step - loss: 7.7125 - accuracy: 0.5000\n",
      "Epoch 3/15\n",
      "8/8 [==============================] - 17s 2s/step - loss: 7.7125 - accuracy: 0.5000\n",
      "Epoch 4/15\n",
      "8/8 [==============================] - 17s 2s/step - loss: 7.7125 - accuracy: 0.5000\n",
      "Epoch 5/15\n",
      "8/8 [==============================] - 17s 2s/step - loss: 7.7125 - accuracy: 0.5000\n",
      "Epoch 6/15\n",
      "8/8 [==============================] - 20s 2s/step - loss: 7.7125 - accuracy: 0.5000\n",
      "Epoch 7/15\n",
      "8/8 [==============================] - 17s 2s/step - loss: 7.7125 - accuracy: 0.5000\n",
      "Epoch 8/15\n",
      "8/8 [==============================] - 19s 2s/step - loss: 7.7125 - accuracy: 0.5000\n",
      "Epoch 9/15\n",
      "8/8 [==============================] - 22s 3s/step - loss: 7.7125 - accuracy: 0.5000\n",
      "Epoch 10/15\n",
      "8/8 [==============================] - 21s 3s/step - loss: 7.7125 - accuracy: 0.5000\n",
      "Epoch 11/15\n",
      "8/8 [==============================] - 22s 3s/step - loss: 7.7125 - accuracy: 0.5000\n",
      "Epoch 12/15\n",
      "8/8 [==============================] - 22s 3s/step - loss: 7.7125 - accuracy: 0.5000\n",
      "Epoch 13/15\n",
      "8/8 [==============================] - 21s 3s/step - loss: 7.7125 - accuracy: 0.5000\n",
      "Epoch 14/15\n",
      "8/8 [==============================] - 21s 3s/step - loss: 7.7125 - accuracy: 0.5000\n",
      "Epoch 15/15\n",
      "8/8 [==============================] - 20s 3s/step - loss: 7.7125 - accuracy: 0.5000\n"
     ]
    },
    {
     "data": {
      "text/plain": [
       "0.5"
      ]
     },
     "execution_count": 3,
     "metadata": {},
     "output_type": "execute_result"
    }
   ],
   "source": [
    "# The Expected output: \"Reached 99.9% accuracy so cancelling training!\"\"\n",
    "train_happy_sad_model()"
   ]
  }
 ],
 "metadata": {
  "colab": {
   "name": "Exercise4-Question.ipynb",
   "provenance": [],
   "version": "0.3.2"
  },
  "kernelspec": {
   "display_name": "Python 3.6 (tensorflow)",
   "language": "python",
   "name": "tensorflow"
  },
  "language_info": {
   "codemirror_mode": {
    "name": "ipython",
    "version": 3
   },
   "file_extension": ".py",
   "mimetype": "text/x-python",
   "name": "python",
   "nbconvert_exporter": "python",
   "pygments_lexer": "ipython3",
   "version": "3.6.9"
  }
 },
 "nbformat": 4,
 "nbformat_minor": 1
}
